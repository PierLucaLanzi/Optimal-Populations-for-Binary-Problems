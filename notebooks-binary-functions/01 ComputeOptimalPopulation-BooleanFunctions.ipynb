{
 "cells": [
  {
   "cell_type": "markdown",
   "id": "6304ac81-211e-484f-bfff-2a8f6339bf59",
   "metadata": {},
   "source": [
    "# Compute Optimal Classifier Populations for Boolean Functions\n",
    "\n",
    "Implements the pipeline to compute optimal classifier populations for Boolean functions. "
   ]
  },
  {
   "cell_type": "code",
   "execution_count": null,
   "id": "ae122384-33e9-4ceb-b33a-021e0274e884",
   "metadata": {
    "tags": []
   },
   "outputs": [],
   "source": [
    "import os\n",
    "from pathlib import Path\n",
    "from boolean_functions import *\n",
    "from xcslib import generate_all_bitstrings"
   ]
  },
  {
   "cell_type": "markdown",
   "id": "4235d8fa-c2fe-4ac3-a0fe-26e6d3f9b95b",
   "metadata": {},
   "source": [
    "# Generation of Optimal Classifier Populations"
   ]
  },
  {
   "cell_type": "markdown",
   "id": "41a69e94-9837-4028-9214-0bbf1211fad1",
   "metadata": {},
   "source": [
    "## Parameters"
   ]
  },
  {
   "cell_type": "code",
   "execution_count": 2,
   "id": "60fa6414-1423-4f45-ba4a-220cab855cbd",
   "metadata": {
    "tags": []
   },
   "outputs": [],
   "source": [
    "# path to the espresso executable\n",
    "espresso_executable = \"../espresso-logic-master/bin/espresso\"\n",
    "\n",
    "# espresso option: guarantees minimum number of product terms, \n",
    "# and heuristically minimizes number of literals. Potentially, expensive.\n",
    "espresso_options = \"-Dexact\""
   ]
  },
  {
   "cell_type": "code",
   "execution_count": 3,
   "id": "7098fe90",
   "metadata": {},
   "outputs": [],
   "source": [
    "Path(\"./pla/\").mkdir(parents=True, exist_ok=True)\n",
    "Path(\"./populations/\").mkdir(parents=True, exist_ok=True)"
   ]
  },
  {
   "cell_type": "markdown",
   "id": "818cd354-d0b0-4e2e-9251-201da1e1c89f",
   "metadata": {},
   "source": [
    "## Espresso Table Generator"
   ]
  },
  {
   "cell_type": "code",
   "execution_count": 4,
   "id": "9de32e3e-9162-4abb-b0a7-f4616f40fd3e",
   "metadata": {
    "tags": []
   },
   "outputs": [],
   "source": [
    "def generate_action_table_v2(n, binary_function, action, filename):\n",
    "    inputs = generate_all_bitstrings(n)\n",
    "    \n",
    "    with open(filename,\"w\") as OUTPUT:\n",
    "        OUTPUT.write(\".i %d\\n.o 2\\n\"%(n+1))\n",
    "\n",
    "        minterms = 0\n",
    "        for input in inputs:\n",
    "            output = binary_function(input)\n",
    "            if (output ==action):\n",
    "                OUTPUT.write(input+str(action)+\" \"+\"10\\n\")\n",
    "            elif (output ==(1-action)):\n",
    "                OUTPUT.write(input+str(action)+\" \"+\"01\\n\")\n",
    "            else:\n",
    "                raise Exception(\"Binary function did not output 0 nor 1\")\n",
    "        OUTPUT.write(\".e\\n\")"
   ]
  },
  {
   "cell_type": "code",
   "execution_count": 5,
   "id": "52db4a4e-315d-4fe8-a1b5-292c53c1896d",
   "metadata": {
    "tags": []
   },
   "outputs": [],
   "source": [
    "def simplify_table(input_pla_filename, output_pla_filename, espresso_executable = espresso_executable, espresso_options = espresso_options):\n",
    "    minimization_command = \"%s %s %s > %s\"%(espresso_executable,espresso_options,input_pla_filename, output_pla_filename)\n",
    "    \n",
    "    minimization_result = os.system(minimization_command)\n",
    "    if (minimization_result!=0):\n",
    "        print(\"MINIMIZATION FAILED\")\n",
    "        print(minimization_command)    "
   ]
  },
  {
   "cell_type": "code",
   "execution_count": 6,
   "id": "c8fd3f9e-2dbf-4400-9fc4-bd230ef9e2e2",
   "metadata": {
    "tags": []
   },
   "outputs": [],
   "source": [
    "def generate_population(input_pla_dictionary, population_filename):\n",
    "    \n",
    "    no_classifiers = 0\n",
    "    \n",
    "    with open(population_filename,\"w\") as POPULATION:\n",
    "\n",
    "        for action in input_pla_dictionary.keys():\n",
    "            with open(input_pla_dictionary[action], \"r\") as INPUT:\n",
    "                str_pla = INPUT.read()\n",
    "            entries = [x for x in str_pla.split(\"\\n\") if (not (x[:2] in [\".i\", \".o\", \".e\", \".p\"])) and (x.strip()!=\"\")]\n",
    "            for entry in entries:\n",
    "                condition,payoff = entry.split(\" \")\n",
    "                classifier = condition[:-1].strip().replace(\"-\",\"#\") + \"\\t\" + str(action) + \"\\t\"\n",
    "                # print(condition[:-1].strip().replace(\"-\",\"#\"))\n",
    "                if (payoff.strip())==\"10\":\n",
    "                    classifier = classifier + \"1000\" + \"\\n\"\n",
    "                else:\n",
    "                    classifier = classifier + \"0\" + \"\\n\"\n",
    "                no_classifiers = no_classifiers + 1\n",
    "                POPULATION.write(classifier)\n",
    "    return no_classifiers"
   ]
  },
  {
   "cell_type": "code",
   "execution_count": null,
   "id": "88c0c95f-cb09-4d77-9598-0d2d70878e51",
   "metadata": {
    "tags": []
   },
   "outputs": [],
   "source": [
    "def compute_optimal_solution(prefix, n, binary_function, pla_directory=\"./pla\",populations_directory=\"./populations/\"):\n",
    "    \n",
    "    Path(populations_directory).mkdir(parents=True, exist_ok=True)\n",
    "    Path(pla_directory).mkdir(parents=True, exist_ok=True)\n",
    "    \n",
    "    function_dictionary = {}\n",
    "    for action in [0,1]:\n",
    "        \n",
    "        generate_action_table_v2(n=n, binary_function=binary_function, action=action, filename=\"%s/%s_%d.pla\"%(pla_directory,prefix,action))\n",
    "\n",
    "        # Uncomment this line to have a time evaluation using repeated runs\n",
    "        # %timeit simplify_table(\"%s/%s_%d.pla\"%(pla_directory,prefix,action), \"%s/%s_%d_simplified.pla\"%(pla_directory,prefix,action))\n",
    "        simplify_table(\"%s/%s_%d.pla\"%(pla_directory,prefix,action), \"%s/%s_%d_simplified.pla\"%(pla_directory,prefix,action))\n",
    "\n",
    "        function_dictionary[action] = \"%s/%s_%d_simplified.pla\"%(pla_directory,prefix,action)\n",
    "    \n",
    "    no_classifiers = generate_population(input_pla_dictionary=function_dictionary, population_filename=\"%s/%s_classifiers.txt\"%(populations_directory,prefix))\n",
    "    \n",
    "    print(\"%-8s\\t# Classifiers = %d (%5.4f)\\n\\n\"%(prefix,no_classifiers, no_classifiers/(2**(n+2))))    "
   ]
  },
  {
   "cell_type": "markdown",
   "id": "cd53fc99-92f2-4e78-874a-a352292b90b0",
   "metadata": {},
   "source": [
    "## Generation of Optimal Solutions from TELO Paper\n",
    "In this section we generate all the optimal populations for the paper: \"A Comparison of Learning Classifier Systems’Rule Compaction Algorithms for Knowledge Visualization\""
   ]
  },
  {
   "cell_type": "code",
   "execution_count": 8,
   "id": "70316599-bcd4-4b0d-8c5e-6a8911d5bc7f",
   "metadata": {},
   "outputs": [
    {
     "name": "stdout",
     "output_type": "stream",
     "text": [
      "mux6    # Classifiers = 16 (0.0625)\n",
      "\n",
      "\n",
      "mux11   # Classifiers = 32 (0.0039)\n",
      "\n",
      "\n",
      "mux20   # Classifiers = 64 (0.0000)\n",
      "\n",
      "\n",
      "carry6  # Classifiers = 36 (0.1406)\n",
      "\n",
      "\n",
      "carry8  # Classifiers = 76 (0.0742)\n",
      "\n",
      "\n",
      "carry10 # Classifiers = 156 (0.0381)\n",
      "\n",
      "\n",
      "carry12 # Classifiers = 316 (0.0193)\n",
      "\n",
      "\n",
      "majority_on6# Classifiers = 70 (0.2734)\n",
      "\n",
      "\n",
      "majority_on7# Classifiers = 140 (0.2734)\n",
      "\n",
      "\n",
      "majority_on8# Classifiers = 252 (0.2461)\n",
      "\n",
      "\n",
      "majority_on9# Classifiers = 504 (0.2461)\n",
      "\n",
      "\n",
      "majority_on10# Classifiers = 924 (0.2256)\n",
      "\n",
      "\n",
      "majority_on11# Classifiers = 1848 (0.2256)\n",
      "\n",
      "\n",
      "majority_on12# Classifiers = 3432 (0.2095)\n",
      "\n",
      "\n"
     ]
    }
   ],
   "source": [
    "all_experiments = [('mux',multiplexer,[6,11,20]),('carry',carry,[6,8,10,12]),('majority_on',majority_on_action,[6,7,8,9,10,11,12])]\n",
    "\n",
    "for label,binary_function,input_sizes in all_experiments:\n",
    "    for input_size in input_sizes:\n",
    "        prefix = label+str(input_size)\n",
    "        compute_optimal_solution(prefix, input_size, binary_function)"
   ]
  },
  {
   "cell_type": "markdown",
   "id": "4fba17eb",
   "metadata": {},
   "source": [
    "## Generate Single Functions"
   ]
  },
  {
   "cell_type": "markdown",
   "id": "473fd7e3-fc0c-4b86-8c0f-b9b7e8f78468",
   "metadata": {},
   "source": [
    "### Binary Multiplexer"
   ]
  },
  {
   "cell_type": "code",
   "execution_count": 21,
   "id": "4a3cad33-2f18-4586-9250-065422217743",
   "metadata": {
    "tags": []
   },
   "outputs": [
    {
     "name": "stdout",
     "output_type": "stream",
     "text": [
      "mp6     # Classifiers = 16 (0.0625)\n",
      "\n",
      "\n"
     ]
    }
   ],
   "source": [
    "prefix = \"mp6\"\n",
    "n = 6\n",
    "binary_function = mp\n",
    "\n",
    "compute_optimal_solution(prefix, n, binary_function)"
   ]
  },
  {
   "cell_type": "code",
   "execution_count": 22,
   "id": "4416320c-25c2-4036-a1d2-5b3f6d93d56f",
   "metadata": {
    "tags": []
   },
   "outputs": [
    {
     "name": "stdout",
     "output_type": "stream",
     "text": [
      "mp11    # Classifiers = 32 (0.0039)\n",
      "\n",
      "\n"
     ]
    }
   ],
   "source": [
    "prefix = \"mp11\"\n",
    "n = 11\n",
    "binary_function = mp\n",
    "\n",
    "compute_optimal_solution(prefix, n, binary_function)"
   ]
  },
  {
   "cell_type": "code",
   "execution_count": 23,
   "id": "4ea39411-bb6e-47fd-adbf-02fd9da326d6",
   "metadata": {
    "tags": []
   },
   "outputs": [
    {
     "name": "stdout",
     "output_type": "stream",
     "text": [
      "MINIMIZATION FAILED\n",
      "../espresso-logic-master/bin/espresso -Dexact ./pla/mp20_0.pla > ./pla/mp20_0_simplified.pla\n",
      "mp20    # Classifiers = 32 (0.0000)\n",
      "\n",
      "\n"
     ]
    }
   ],
   "source": [
    "prefix = \"mp20\"\n",
    "n = 20\n",
    "binary_function = mp\n",
    "\n",
    "compute_optimal_solution(prefix, n, binary_function)"
   ]
  },
  {
   "cell_type": "markdown",
   "id": "2694e9c5-08e1-4c61-8712-d5727f2fd87d",
   "metadata": {},
   "source": [
    "### Eq(5,3)"
   ]
  },
  {
   "cell_type": "code",
   "execution_count": null,
   "id": "ff266638-44ed-4a8d-a9fe-c38b88136a9c",
   "metadata": {
    "tags": []
   },
   "outputs": [
    {
     "name": "stdout",
     "output_type": "stream",
     "text": [
      "eq53    # Classifiers = 50 (0.3906)\n",
      "\n",
      "\n"
     ]
    }
   ],
   "source": [
    "prefix = \"eq53\"\n",
    "n = 5\n",
    "binary_function = (lambda x: eq(x,5,3))\n",
    "\n",
    "compute_optimal_solution(prefix, n, binary_function)"
   ]
  },
  {
   "cell_type": "markdown",
   "id": "5a470685-02aa-4ec9-a17e-4ff0d240ef5c",
   "metadata": {},
   "source": [
    "### Majority On"
   ]
  },
  {
   "cell_type": "code",
   "execution_count": null,
   "id": "59462fb8-bd40-47dd-89ab-ebab863a6c2e",
   "metadata": {
    "tags": []
   },
   "outputs": [
    {
     "name": "stdout",
     "output_type": "stream",
     "text": [
      "majority5# Classifiers = 40 (0.3125)\n",
      "\n",
      "\n"
     ]
    }
   ],
   "source": [
    "prefix = \"majority5\"\n",
    "n = 5\n",
    "binary_function = majority_on_action\n",
    "\n",
    "compute_optimal_solution(prefix, n, binary_function)"
   ]
  },
  {
   "cell_type": "markdown",
   "id": "ec7e891a-60f2-43b9-a556-a558ef90a966",
   "metadata": {},
   "source": [
    "### Carry "
   ]
  },
  {
   "cell_type": "code",
   "execution_count": 24,
   "id": "3b85fa11-9703-4c59-91db-256e8490e89d",
   "metadata": {
    "tags": []
   },
   "outputs": [
    {
     "name": "stdout",
     "output_type": "stream",
     "text": [
      "carry6  # Classifiers = 36 (0.1406)\n",
      "\n",
      "\n"
     ]
    }
   ],
   "source": [
    "prefix = \"carry6\"\n",
    "n = 6\n",
    "binary_function = carry\n",
    "\n",
    "compute_optimal_solution(prefix, n, binary_function)"
   ]
  }
 ],
 "metadata": {
  "kernelspec": {
   "display_name": "base",
   "language": "python",
   "name": "python3"
  },
  "language_info": {
   "codemirror_mode": {
    "name": "ipython",
    "version": 3
   },
   "file_extension": ".py",
   "mimetype": "text/x-python",
   "name": "python",
   "nbconvert_exporter": "python",
   "pygments_lexer": "ipython3",
   "version": "3.12.7"
  }
 },
 "nbformat": 4,
 "nbformat_minor": 5
}
