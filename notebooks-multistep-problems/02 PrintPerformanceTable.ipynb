{
 "cells": [
  {
   "cell_type": "code",
   "execution_count": 1,
   "id": "42cb976e-b260-49f8-ae88-0f4f7c680e0b",
   "metadata": {},
   "outputs": [],
   "source": [
    "import pandas as pd\n",
    "from xcslib import load_xcslib_population"
   ]
  },
  {
   "cell_type": "code",
   "execution_count": null,
   "id": "23b3099d-ee01-4d14-b1a9-c47b89d7c059",
   "metadata": {},
   "outputs": [
    {
     "name": "stdout",
     "output_type": "stream",
     "text": [
      "\\begin{tabular}{|c||c|p{.75in}|p{.75in}|p{.75in}|p{.75in}|}\\hline\n",
      "            &          & \\multicolumn{2}{|c|}{Tabular Solution} & \\multicolumn{2}{|c|}{Maximally General Solution} \\\\\\cline{3-6}\n",
      "Environment & \\# States & Size & Performance & Size & Performance \\\\\\hline\n",
      "\\texttt{woods1} & 16 & 128 & 1.688 & 31 (24.2\\%) & 1.688 \\\\\n",
      "\\hline\n",
      "\\end{tabular}\n"
     ]
    }
   ],
   "source": [
    "print(\"\\\\begin{tabular}{|c||c|p{.75in}|p{.75in}|p{.75in}|p{.75in}|}\\\\hline\")\n",
    "print(\"            &          & \\\\multicolumn{2}{|c|}{Tabular Solution} & \\\\multicolumn{2}{|c|}{Maximally General Solution} \\\\\\\\\\\\cline{3-6}\")\n",
    "print(\"Environment & \\\\# States & Size & Performance & Size & Performance \\\\\\\\\\\\hline\")\n",
    "\n",
    "experiment = 0\n",
    "\n",
    "for problem in ['woods1', 'woods2', 'maze4', 'maze5', 'maze6', 'woods14']:\n",
    "    problem_extension = problem+\"q\"\n",
    "    optimal_extension = problem+\"v\"\n",
    "    source_directory = \"../qlearning/%s/\"%(problem)\n",
    "\n",
    "    df_original_statistics = pd.read_csv(\"%s/statistics.%s-%04d.gz\"%(source_directory,problem_extension,experiment),sep='\\t',header=None,names=['experiment','problem','steps', 'reward','population size','label'],compression=\"gzip\")\n",
    "    df_optimal_statistics = pd.read_csv(\"%s/statistics.%s-%04d.gz\"%(source_directory,optimal_extension,experiment),sep='\\t',header=None,names=['experiment','problem','steps', 'reward','population size','label'],compression=\"gzip\")\n",
    "\n",
    "    df_original_population = load_xcslib_population(\"%s/population.%s-%04d.gz\"%(source_directory,problem_extension,experiment))\n",
    "    df_optimal_population = load_xcslib_population(\"%s/population.%s-%04d.gz\"%(source_directory,optimal_extension,experiment))\n",
    "\n",
    "    df_original_solution = df_original_statistics[df_original_statistics['label'] == 'Solution']\n",
    "    df_optimal_solution = df_optimal_statistics[df_optimal_statistics['label'] == 'Solution']\n",
    "\n",
    "    original_no_steps = df_original_solution['steps'].mean()\n",
    "    optimal_no_steps = df_optimal_solution['steps'].mean()\n",
    "\n",
    "    no_states = len(df_original_solution)\n",
    "\n",
    "    print(\"\\\\texttt{%s} & %d & %d & %4.3f & %d (%3.1f\\\\%%) & %4.3f \\\\\\\\\"%(problem, no_states, len(df_original_population), original_no_steps, len(df_optimal_population), 100*(len(df_optimal_population)/len(df_original_population)), optimal_no_steps))\n",
    "print(\"\\\\hline\")\n",
    "print(\"\\\\end{tabular}\")"
   ]
  },
  {
   "cell_type": "code",
   "execution_count": null,
   "id": "a8b2e3c5",
   "metadata": {},
   "outputs": [],
   "source": []
  }
 ],
 "metadata": {
  "kernelspec": {
   "display_name": "base",
   "language": "python",
   "name": "python3"
  },
  "language_info": {
   "codemirror_mode": {
    "name": "ipython",
    "version": 3
   },
   "file_extension": ".py",
   "mimetype": "text/x-python",
   "name": "python",
   "nbconvert_exporter": "python",
   "pygments_lexer": "ipython3",
   "version": "3.12.7"
  }
 },
 "nbformat": 4,
 "nbformat_minor": 5
}
